str=input('Enter string:')
for i in range(0,len(str),1):
  if 'A' <= str[i] <= 'Z':
    print('Extracted upper case character:',str[i])
