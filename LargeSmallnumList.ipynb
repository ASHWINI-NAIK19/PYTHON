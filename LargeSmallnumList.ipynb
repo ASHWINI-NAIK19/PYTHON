def chk():
	    l=[4,30,20,50,80,2]
	    large=l[0]
	    small=l[0]
	    for i in range(len(l)):
	        if l[i]>large:
	            large=l[i]
	        if l[i]<small:
	            small=l[i]
	    print("Largest number in the list:",large)  
	    print("Smallest number in the list:",small) 
	    
chk()
