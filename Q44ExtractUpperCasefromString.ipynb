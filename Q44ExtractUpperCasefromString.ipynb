str=input('Enter string:')
i=0
while i<len(str):
  if 'A' <= str[i] <= 'Z':
      print('Extracted upper case character:',str[i])
  i+=1
