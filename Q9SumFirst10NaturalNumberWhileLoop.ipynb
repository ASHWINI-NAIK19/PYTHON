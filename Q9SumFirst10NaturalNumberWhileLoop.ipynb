i=1
n=10
sum=0
while i<=n:
  sum=sum+i
  i+=1
print('Sum of 10 Natural number using while loop:',sum)
