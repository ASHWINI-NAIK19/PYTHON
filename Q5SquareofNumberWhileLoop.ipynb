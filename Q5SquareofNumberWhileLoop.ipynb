n=10
i=1
while i<n:    
  print('Integer Number:',i)
  print('Square of the number:',i**2)
  i+=1
