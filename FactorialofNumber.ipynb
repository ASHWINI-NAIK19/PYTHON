def fact():
	    n=int(input("Enter number:"))
	    fac=1
	    if n < 0:
	        print("Factorial of negative number does not exist")
	    elif n==0:
	        print("Factorial of zero is:",fac)
	    else:
	        for i in range(1,n+1,1):
	            fac=fac*i
	    print("Factorial of",n,"is:",fac)
	    
fact()
