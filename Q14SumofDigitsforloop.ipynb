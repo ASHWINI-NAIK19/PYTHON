n=input('Enter number:')
res=0
for i in range(len(n)):    
  res=res+int(n[i])
print(res)
