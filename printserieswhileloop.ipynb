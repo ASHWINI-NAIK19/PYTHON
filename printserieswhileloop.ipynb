n=7
i=105
while i>=n:
  print(i)  
  i-=7 
