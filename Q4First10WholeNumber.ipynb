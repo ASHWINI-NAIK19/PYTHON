n=10
i=0
while i<n:    
  print('First 10 Whole Number:',i)
  i+=1
