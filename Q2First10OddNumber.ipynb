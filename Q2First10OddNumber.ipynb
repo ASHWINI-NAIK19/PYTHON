n=20
i=1
while i<n:    
  print('First 10 Odd Number:',i)
  i+=2
