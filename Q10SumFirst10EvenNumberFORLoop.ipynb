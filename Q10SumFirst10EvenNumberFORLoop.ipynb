n=20
sum=0
for i in range(0,n,2):
  sum=sum+i
print('Sum of 10 Even number:',sum)
