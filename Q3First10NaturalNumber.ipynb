n=10
i=1
while i<=n:    
  print('First 10 Natural Number:',i)
  i+=1
