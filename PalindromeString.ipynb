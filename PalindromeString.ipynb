st="MALAYALAM"
rev=""
for i in range(len(st)-1,-1,-1):
    print(i)
    rev=rev+st[i]
print(rev)
