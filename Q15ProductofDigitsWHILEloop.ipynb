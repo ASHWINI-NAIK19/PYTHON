n=int(input('Enter number:'))
res=1
while n!=0:
  rem=n%10
  res=res*rem
  n=n//10
print('Product of digits:',res)
