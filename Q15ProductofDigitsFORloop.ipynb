n=(input('Enter number:'))
res=1
for i in range(len(n)):    
  res=res*int(n[i])
print(res)
