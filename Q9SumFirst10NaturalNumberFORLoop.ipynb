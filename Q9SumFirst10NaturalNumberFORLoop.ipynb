n=10
sum=0
for i in range(1,n+1,1):
  sum=sum+i
  print('Sum of 10 Natural number:',sum)
