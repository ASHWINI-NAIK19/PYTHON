i=0
n=20
sum=0
while i<n:
  sum=sum+i
  i+=2
print('Sum of 10 Even number:',sum)
