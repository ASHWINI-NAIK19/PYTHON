n=0
i=10
while i>n:
  print('Natural Number reverse:',i)
  i-=1
