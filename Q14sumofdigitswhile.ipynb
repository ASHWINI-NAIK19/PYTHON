n=int(input('Enter number:'))
res=0
while n!=0:
  rem=n%10
  res=res+rem
  n=n//10
print(res)
