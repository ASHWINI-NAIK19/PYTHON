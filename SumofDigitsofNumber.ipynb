def sum():
	    n=input("Enter Number:")
	    sum=0
	    for i in n:
	        sum=sum+int(i)
	    print("Sum of digits of given number",n,"is:",sum)   
	
	    
sum()
